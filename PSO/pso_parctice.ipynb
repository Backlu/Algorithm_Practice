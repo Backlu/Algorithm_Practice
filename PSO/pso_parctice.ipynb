{
 "cells": [
  {
   "cell_type": "markdown",
   "metadata": {},
   "source": [
    "# PSO Practice\n",
    "Particle Swarm Optimization\n",
    "\n",
    "- Reference:\n",
    "    - https://nathanrooy.github.io/posts/2016-08-17/simple-particle-swarm-optimization-with-python/\n",
    "    - http://jjcommons.csie.isu.edu.tw/research/download/PSO.pdf"
   ]
  },
  {
   "cell_type": "code",
   "execution_count": 9,
   "metadata": {},
   "outputs": [],
   "source": [
    "import random\n",
    "import math\n"
   ]
  },
  {
   "cell_type": "markdown",
   "metadata": {},
   "source": [
    "## 1. 定義Loss Function\n",
    "\n",
    "$loss = x_1^2 + x_2 ^2$\n",
    "\n",
    "\n",
    "$\\hat{x_1}, \\hat{x_2} = argmin(loss)$\n",
    "\n"
   ]
  },
  {
   "cell_type": "code",
   "execution_count": 12,
   "metadata": {
    "collapsed": true
   },
   "outputs": [],
   "source": [
    "def loss_function(x):\n",
    "    total=0\n",
    "    for i in range(len(x)):\n",
    "        total+=x[i]**2\n",
    "    return total"
   ]
  },
  {
   "cell_type": "markdown",
   "metadata": {},
   "source": [
    "** 定義 Particle property and method **"
   ]
  },
  {
   "cell_type": "code",
   "execution_count": 64,
   "metadata": {
    "collapsed": true
   },
   "outputs": [],
   "source": [
    "class Particle:\n",
    "    def __init__(self,x0):\n",
    "        self.position_i=[]          # particle position\n",
    "        self.velocity_i=[]          # particle velocity\n",
    "        self.pos_best_i=[]          # best position individual\n",
    "        self.err_best_i=-1          # best error individual\n",
    "        self.err_i=-1               # error individual\n",
    "        self.num_dimensions = len(x0)\n",
    "\n",
    "        for i in range(0, self.num_dimensions):\n",
    "            self.velocity_i.append(random.uniform(-1,1))\n",
    "            self.position_i.append(x0[i])\n",
    "    def getPosition(self):\n",
    "        return self.position_i\n",
    "    \n",
    "    def evaluate(self,costFunc):\n",
    "        self.err_i=costFunc(self.position_i)\n",
    "        if self.err_i < self.err_best_i or self.err_best_i==-1:\n",
    "            self.pos_best_i=self.position_i\n",
    "            self.err_best_i=self.err_i\n",
    "\n",
    "    def update_velocity(self,pos_best_g):\n",
    "        w, c1, c2 =0.5, 1, 2        \n",
    "        for i in range(0, self.num_dimensions):\n",
    "            r1=random.random()\n",
    "            r2=random.random()\n",
    "            vel_cognitive=c1*r1*(self.pos_best_i[i]-self.position_i[i])\n",
    "            vel_social=c2*r2*(pos_best_g[i]-self.position_i[i])\n",
    "            self.velocity_i[i]=w*self.velocity_i[i]+vel_cognitive+vel_social\n",
    "\n",
    "    def update_position(self,bounds):\n",
    "        for i in range(0, self.num_dimensions):\n",
    "            self.position_i[i]=self.position_i[i]+self.velocity_i[i]\n",
    "            if self.position_i[i]>bounds[i][1]:\n",
    "                self.position_i[i]=bounds[i][1]\n",
    "            if self.position_i[i] < bounds[i][0]:\n",
    "                self.position_i[i]=bounds[i][0]"
   ]
  },
  {
   "cell_type": "markdown",
   "metadata": {},
   "source": [
    "## 2. 定義Soluton Limit & Initial State\n",
    "\n",
    "$Initial state:  x1=5, x2=5$\n",
    "  \n",
    "$solution limit: -10<x_1<10, -10<x_2<10$   "
   ]
  },
  {
   "cell_type": "code",
   "execution_count": 65,
   "metadata": {
    "collapsed": true
   },
   "outputs": [],
   "source": [
    "initial=[5,5]               \n",
    "bounds=[(-10,10),(-10,10)]  \n"
   ]
  },
  {
   "cell_type": "markdown",
   "metadata": {},
   "source": [
    "## 3. Algorithm Steps\n",
    "- 初始化每一個particle, \n",
    "    - initial position, \n",
    "    - random velocity\n",
    "- iterative search \n",
    "    - 計算每個particle的loss\n",
    "    - 紀錄最好的loss與position \n",
    "    - 更新每個particle的velocity\n",
    "    - 更新每個particle的position\n",
    "\n",
    "$V_{j, h}(t)=V_{j, h}(t-1) + c_1\\phi_1(X_{j, h}^*-X_{j, h}(t-1)) + c_2\\phi_2(X_{h}^\\#-X_{j, h}(t-1)) $\n",
    "\n",
    "$X_{j, h}(t) = X_{j, h}(t-1) + V_{j, h}(t)$\n"
   ]
  },
  {
   "cell_type": "code",
   "execution_count": 221,
   "metadata": {
    "collapsed": true
   },
   "outputs": [],
   "source": [
    "class PSO():    \n",
    "    \n",
    "    def __init__(self,costFunc,x0,bounds,num_particles,maxiter):\n",
    "        self.costFunc=costFunc\n",
    "        self.x0=x0\n",
    "        self.bounds=bounds\n",
    "        self.num_particles=num_particles\n",
    "        self.maxiter=maxiter\n",
    "        self.err_best_g=-1                   \n",
    "        self.pos_best_g=[]\n",
    "        self.swarm=[]\n",
    "        self.swarmPos=[]\n",
    "    def bestPosition(self):\n",
    "        return self.pos_best_g\n",
    "\n",
    "    def bestLoss(self):\n",
    "        return self.err_best_g\n",
    "    \n",
    "    def getSwarm(self):\n",
    "        return self.swarm\n",
    "    \n",
    "    def getswarmPos(self):\n",
    "        return self.swarmPos\n",
    "    \n",
    "    def start(self):\n",
    "        tmplist=[]\n",
    "        for i in range(0, self.num_particles):\n",
    "            self.swarm.append(Particle(self.x0))\n",
    "\n",
    "        i=0\n",
    "        while i < self.maxiter:\n",
    "            for j in range(0, self.num_particles):\n",
    "                self.swarm[j].evaluate(self.costFunc)\n",
    "\n",
    "                # determine if current particle is the best (globally)\n",
    "                if self.swarm[j].err_i < self.err_best_g or self.err_best_g == -1:\n",
    "                    self.pos_best_g=list(self.swarm[j].position_i)\n",
    "                    self.err_best_g=float(self.swarm[j].err_i)\n",
    "            for j in range(0, self.num_particles):\n",
    "                self.swarm[j].update_velocity(self.pos_best_g)\n",
    "                self.swarm[j].update_position(self.bounds)\n",
    "            \n",
    "            tmp = list(map(lambda p: p.getPosition().copy(), self.swarm))\n",
    "            self.swarmPos.append(list(tmp))\n",
    "            i+=1\n",
    "            \n",
    "\n",
    "\n"
   ]
  },
  {
   "cell_type": "code",
   "execution_count": 254,
   "metadata": {
    "scrolled": true
   },
   "outputs": [
    {
     "name": "stdout",
     "output_type": "stream",
     "text": [
      "best position [0.0006707013039203621, 0.00037218003136224066]\n",
      "best loss 5.883582148252723e-07\n"
     ]
    },
    {
     "data": {
      "image/png": "[encoded data removed]",
      "text/plain": [
       "<matplotlib.figure.Figure at 0x113bdd550>"
      ]
     },
     "metadata": {},
     "output_type": "display_data"
    }
   ],
   "source": [
    "pso = PSO(loss_function,initial,bounds,num_particles=15,maxiter=30)\n",
    "pso.start()\n",
    "\n",
    "fig = plt.figure()\n",
    "for s in pso.getswarmPos():\n",
    "    pos_x = list(zip(*s))[0]\n",
    "    pos_y = list(zip(*s))[1]\n",
    "    plt.scatter([np.mean(pos_x)],[np.mean(pos_y)], marker='x', color='black', s=100)\n",
    "    plt.scatter(pos_x, pos_y)\n",
    "    \n",
    "print('best position', pso.bestPosition())\n",
    "print('best loss', pso.bestLoss())"
   ]
  }
 ],
 "metadata": {
  "kernelspec": {
   "display_name": "Python [conda root]",
   "language": "python",
   "name": "conda-root-py"
  },
  "language_info": {
   "codemirror_mode": {
    "name": "ipython",
    "version": 3
   },
   "file_extension": ".py",
   "mimetype": "text/x-python",
   "name": "python",
   "nbconvert_exporter": "python",
   "pygments_lexer": "ipython3",
   "version": "3.5.3"
  }
 },
 "nbformat": 4,
 "nbformat_minor": 2
}
