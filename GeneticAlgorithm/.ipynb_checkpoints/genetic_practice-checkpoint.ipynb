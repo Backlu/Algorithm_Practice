{
 "cells": [
  {
   "cell_type": "markdown",
   "metadata": {},
   "source": [
    "# Genetic Algorithm Practice\n",
    "\n",
    "### 目標：將隨機生成的20個字串, 隨著演化後逐漸變成特定的字串\n",
    "- reference\n",
    "    - GA 基因演算法, https://dotblogs.com.tw/dragon229/2013/01/03/86692\n",
    "    - github source code, https://gist.github.com/josephmisiti/940cee03c97f031188ba7eac74d03a4f\n"
   ]
  },
  {
   "cell_type": "code",
   "execution_count": 475,
   "metadata": {
    "collapsed": true
   },
   "outputs": [],
   "source": [
    "import random\n",
    "from random import shuffle\n",
    "\n",
    "OPTIMAL = \"Hello\"\n",
    "DNA_SIZE = len(OPTIMAL)\n",
    "POP_SIZE= 20\n"
   ]
  },
  {
   "cell_type": "markdown",
   "metadata": {},
   "source": [
    "## 1. Fitness Function\n",
    "\n",
    "- 定義x1~x5為5個random char\n",
    "- loss是X1x2x3x4x5和Hello的差距, 當x1~x5依序為Hello時, loss為0\n",
    "\n",
    "$loss = abs(x_1-72)+abs(x_2-101)+abs(x_3-108)+abs(x_4-108)+abs(x_5-111)$ \n",
    "\n",
    "$\\hat{x_1},\\hat{x_2},\\hat{x_3},\\hat{x_4},\\hat{x_5} = argmin(loss)$  \n",
    "\n"
   ]
  },
  {
   "cell_type": "code",
   "execution_count": 476,
   "metadata": {
    "collapsed": true
   },
   "outputs": [],
   "source": [
    "def fitness(dna):\n",
    "    fitness = 0\n",
    "    for c in range(DNA_SIZE):\n",
    "        fitness += abs(ord(dna[c]) - ord(OPTIMAL[c]))\n",
    "    return fitness"
   ]
  },
  {
   "cell_type": "markdown",
   "metadata": {},
   "source": [
    "## 2. 各種演化規則\n",
    "\n",
    "- 突變, ex: hello -> hexlo\n",
    "- 交配, ex: abcde, 12345 -> ab345, 12cde\n"
   ]
  },
  {
   "cell_type": "code",
   "execution_count": 477,
   "metadata": {
    "collapsed": true
   },
   "outputs": [],
   "source": [
    "\n",
    "def random_char():\n",
    "    return chr(int(random.randrange(32, 126, 1)))\n",
    "\n",
    "\n",
    "#突變 ex: hello -> hexlo\n",
    "def mutate(dna):\n",
    "    dna_out = \"\"\n",
    "    mutation_chance = 100\n",
    "    for c in range(DNA_SIZE):\n",
    "        if int(random.random()*mutation_chance) == 10:\n",
    "            dna_out += random_char()\n",
    "        else:\n",
    "            dna_out += dna[c]\n",
    "    return dna_out\n",
    "\n",
    "#交配 ex: abcde, 12345 -> ab345, 12cde\n",
    "def crossover(dna1, dna2):\n",
    "    pos = int(random.random()*DNA_SIZE)\n",
    "    return (dna1[:pos]+dna2[pos:], dna2[:pos]+dna1[pos:])\n"
   ]
  },
  {
   "cell_type": "markdown",
   "metadata": {},
   "source": [
    "## Algorithm Steps\n",
    "- 隨機產生20個長度為23的隨機字串 \n",
    "- 讓這20個random words演化10000次\n",
    "    - 計算每個word的fitness分數\n",
    "    - 選擇與複製：根據fitness分數計算每個word被選中進行下一步演化的機率, fitness分數越好機率越大, 並選出10個pair\n",
    "    - 每個Pair交配後得到新的pair\n",
    "    - 突變\n",
    "    - 將演化後的word取代原本的群體\n",
    "    - 每演化100次, 印出分數最好的word\n",
    "    "
   ]
  },
  {
   "cell_type": "code",
   "execution_count": 484,
   "metadata": {
    "scrolled": false
   },
   "outputs": [
    {
     "name": "stdout",
     "output_type": "stream",
     "text": [
      "Generation    0: 'a_H[j' (fitness:' 89')\n",
      "Generation  100: 'Hei^h' (fitness:' 24')\n",
      "Generation  200: 'Heiql' (fitness:' 11')\n",
      "Generation  300: 'Hemhp' (fitness:'  6')\n",
      "Generation  400: 'Hemnp' (fitness:'  4')\n",
      "Generation  500: 'Hemnp' (fitness:'  4')\n",
      "Generation  600: 'Hemnp' (fitness:'  4')\n",
      "Generation  700: 'Hemnp' (fitness:'  4')\n",
      "Generation  800: 'Hemnp' (fitness:'  4')\n",
      "Generation  900: 'Hemnp' (fitness:'  4')\n",
      "Generation 1000: 'Helkp' (fitness:'  2')\n",
      "Generation 1100: 'Helkp' (fitness:'  2')\n",
      "Generation 1200: 'Helko' (fitness:'  1')\n",
      "Generation 1300: 'Helko' (fitness:'  1')\n",
      "Generation 1400: 'Helko' (fitness:'  1')\n",
      "Generation 1500: 'Helko' (fitness:'  1')\n",
      "Generation 1600: 'Helko' (fitness:'  1')\n",
      "Generation 1700: 'Helko' (fitness:'  1')\n",
      "Generation 1800: 'Helko' (fitness:'  1')\n",
      "Generation 1900: 'Helko' (fitness:'  1')\n",
      "Generation 2000: 'Helko' (fitness:'  1')\n",
      "Generation 2100: 'Helko' (fitness:'  1')\n",
      "Finish\n",
      "Generation 2198: 'Hello' (fitness:'  0')\n"
     ]
    }
   ],
   "source": [
    "GENERATIONS = 100000\n",
    "population = random_population()\n",
    "\n",
    "def random_population():\n",
    "    pop = []\n",
    "    for i in range(POP_SIZE):\n",
    "        dna = \"\"\n",
    "        for c in range(DNA_SIZE):\n",
    "            dna += random_char()\n",
    "        pop.append(dna)\n",
    "    return pop\n",
    "\n",
    "def weighted_choice(items):\n",
    "    weight_total = sum((item[1] for item in items))\n",
    "    n = random.uniform(0, weight_total)\n",
    "    for item, weight in items:\n",
    "        if n < weight:\n",
    "            return item\n",
    "        n = n - weight\n",
    "    return item\n",
    "\n",
    "def find_fittest(population):\n",
    "    fittest_string = population[0]\n",
    "    minimum_fitness = fitness(population[0])\n",
    "    for idv in population:\n",
    "        ind_fitness = fitness(idv)\n",
    "        if ind_fitness <= minimum_fitness:\n",
    "            fittest_string = idv\n",
    "            minimum_fitness = ind_fitness\n",
    "    return fittest_string, minimum_fitness\n",
    "\n",
    "\n",
    "for generation in range(GENERATIONS):\n",
    "    fittest_s, fittest_v = find_fittest(population)        \n",
    "    if fittest_v==0:\n",
    "        print('Finish')\n",
    "        print(\"Generation%5s: '%s' (fitness:'%3s')\" % (generation, fittest_s, fittest_v))\n",
    "        break\n",
    "    elif generation%100==0:\n",
    "        print(\"Generation%5s: '%s' (fitness:'%3s')\" % (generation, fittest_s, fittest_v))\n",
    "        \n",
    "    weighted_population = []\n",
    "    for individual in population:\n",
    "        fitness_val = fitness(individual)\n",
    "        pair = (individual, 1.0) if fitness_val == 0 else (individual, 1.0/fitness_val)\n",
    "        weighted_population.append(pair)\n",
    "        \n",
    "    population = []\n",
    "    for _ in range(int(POP_SIZE/2)):\n",
    "        ind1 = weighted_choice(weighted_population)\n",
    "        ind2 = weighted_choice(weighted_population)\n",
    "        ind1, ind2 = crossover(ind1, ind2)\n",
    "        population.append(mutate(ind1))\n",
    "        population.append(mutate(ind2))\n",
    "   \n",
    "    \n"
   ]
  },
  {
   "cell_type": "code",
   "execution_count": null,
   "metadata": {},
   "outputs": [],
   "source": []
  },
  {
   "cell_type": "code",
   "execution_count": null,
   "metadata": {},
   "outputs": [],
   "source": []
  },
  {
   "cell_type": "code",
   "execution_count": null,
   "metadata": {
    "collapsed": true
   },
   "outputs": [],
   "source": []
  }
 ],
 "metadata": {
  "kernelspec": {
   "display_name": "Python [conda root]",
   "language": "python",
   "name": "conda-root-py"
  },
  "language_info": {
   "codemirror_mode": {
    "name": "ipython",
    "version": 3
   },
   "file_extension": ".py",
   "mimetype": "text/x-python",
   "name": "python",
   "nbconvert_exporter": "python",
   "pygments_lexer": "ipython3",
   "version": "3.5.3"
  }
 },
 "nbformat": 4,
 "nbformat_minor": 2
}
